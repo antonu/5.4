{
 "cells": [
  {
   "cell_type": "markdown",
   "metadata": {},
   "source": [
    "# Домашнее задание к занятию \"Введение в нейронные сети\"\n",
    "\n",
    "Антон Уразов"
   ]
  },
  {
   "cell_type": "markdown",
   "metadata": {},
   "source": [
    "# Реализация логистической регрессии в tensorflow\n",
    "\n",
    "Реализовать модель логистической регрессии. На базе шаблона 004-classification.ipynb необходимо реализовать операцию sigmoid в моделе логистической регрессии.\n",
    "Решение необходимо прислать в виде ipython-ноутбука с визуализацией разделяющей гиперплоскости."
   ]
  },
  {
   "cell_type": "code",
   "execution_count": 2,
   "metadata": {},
   "outputs": [
    {
     "name": "stderr",
     "output_type": "stream",
     "text": [
      "/Users/antonurazov/anaconda/lib/python3.6/site-packages/h5py/__init__.py:34: FutureWarning: Conversion of the second argument of issubdtype from `float` to `np.floating` is deprecated. In future, it will be treated as `np.float64 == np.dtype(float).type`.\n",
      "  from ._conv import register_converters as _register_converters\n"
     ]
    }
   ],
   "source": [
    "import numpy as np\n",
    "import tensorflow as tf"
   ]
  },
  {
   "cell_type": "code",
   "execution_count": 3,
   "metadata": {},
   "outputs": [],
   "source": [
    "%matplotlib inline\n",
    "from matplotlib import pyplot as plt"
   ]
  },
  {
   "cell_type": "markdown",
   "metadata": {},
   "source": [
    "## Генерируем данные для задачи регрессии"
   ]
  },
  {
   "cell_type": "code",
   "execution_count": 4,
   "metadata": {},
   "outputs": [],
   "source": [
    "NUM_FEATURES = 2\n",
    "NUM_SAMPLES = 1000"
   ]
  },
  {
   "cell_type": "code",
   "execution_count": 5,
   "metadata": {},
   "outputs": [
    {
     "data": {
      "image/png": "[encoded data removed]",
      "text/plain": [
       "<Figure size 432x288 with 1 Axes>"
      ]
     },
     "metadata": {},
     "output_type": "display_data"
    }
   ],
   "source": [
    "from sklearn.datasets import make_classification\n",
    "\n",
    "X, y = make_classification(n_samples = NUM_SAMPLES,\n",
    "                           n_features = NUM_FEATURES,\n",
    "                           n_informative = NUM_FEATURES,\n",
    "                           n_redundant = 0,\n",
    "                           n_classes = 2,\n",
    "                           n_clusters_per_class = 1,\n",
    "                           class_sep = 0.75,\n",
    "                           random_state = 54312)\n",
    "\n",
    "y = y.reshape(-1, 1)\n",
    "\n",
    "ones = np.where(y == 1)   # индексы объектов класса '1'\n",
    "zeros = np.where(y == 0)  # индексы объектов класса '0'\n",
    "\n",
    "plt.xlabel('x')\n",
    "plt.ylabel('y')\n",
    "plt.plot(X[ones, 0], X[ones, 1], 'ob',\n",
    "         X[zeros, 0], X[zeros, 1], 'or');"
   ]
  },
  {
   "cell_type": "markdown",
   "metadata": {},
   "source": [
    "## Вспомогательная функция для создания операций"
   ]
  },
  {
   "cell_type": "code",
   "execution_count": 6,
   "metadata": {},
   "outputs": [],
   "source": [
    "import random\n",
    "import string\n",
    "\n",
    "def py_func_with_grad(func, inp, Tout, grad, name = None, stateful = False, graph = None):\n",
    "    \n",
    "    name_prefix = ''.join(random.choices(string.ascii_letters, k = 10))\n",
    "    \n",
    "    name = '%s_%s' % (name_prefix, name or '')\n",
    "    grad_func_name = '%s_grad' % name\n",
    "\n",
    "    tf.RegisterGradient(grad_func_name)(grad)\n",
    "\n",
    "    g = graph or tf.get_default_graph()\n",
    "    with g.gradient_override_map({'PyFunc': grad_func_name, \n",
    "                                  'PyFuncStateless': grad_func_name}):\n",
    "        with tf.name_scope(name, 'PyFuncOp', inp):\n",
    "            return tf.py_func(func, inp, Tout, stateful = stateful, name = name)"
   ]
  },
  {
   "cell_type": "markdown",
   "metadata": {},
   "source": [
    "## Реализация линейной опреаций"
   ]
  },
  {
   "cell_type": "code",
   "execution_count": 58,
   "metadata": {},
   "outputs": [],
   "source": [
    "def linear_op_forward(X, W):\n",
    "    ''' Реализация линейной операции '''\n",
    "    return np.dot(X, W.T)  # аргументы являются numpy-массивами\n",
    "\n",
    "def linear_op_backward(op, grads):\n",
    "    ''' Реализация вычисления градиента линейной операции '''\n",
    "    X = op.inputs[0]  # тензор входных данных\n",
    "    W = op.inputs[1]  # тензор параметров модели\n",
    "    dX = tf.multiply(grads, W)\n",
    "    dW = tf.reduce_sum(tf.multiply(X, grads),\n",
    "                       axis = 0,\n",
    "                       keep_dims = True)\n",
    "    return dX, dW\n",
    "\n",
    "def sigmoid_op_forward(X):\n",
    "    '''  Реализация операции sigmoid'''\n",
    "    return np.exp(X) / (np.exp(X) +1)\n",
    "\n",
    "def sigmoid_op_backward(op, grads):\n",
    "    ''' Реализация вычисления градиента sigmoid операции '''\n",
    "    s = op.outputs[0]\n",
    "    return (1 - s)* s * grads"
   ]
  },
  {
   "cell_type": "markdown",
   "metadata": {},
   "source": [
    "### Комментарии\n",
    "Функция sigmoid имеет вид:\n",
    "\n",
    "$s(x) = \\frac{1}{1+e^{-x}}=\\frac{e^x}{e^x+1}$.\n",
    "\n",
    "Почитаем ее производную:\n",
    "\n",
    "$\n",
    "\\cfrac{\\partial s(x)}{\\partial x} \n",
    "= -1 \\cdot (1+e^{-x})^{-2}\\cdot(-e^{-x}) \n",
    "= e^{-x}\\cdot(1+e^{-x})^{-2} \n",
    "= \\cfrac{e^{-x}}{e^{-x}+1}\\cdot \\cfrac{1}{e^{-x}+1}\n",
    "= \\cfrac{1}{e^x + 1} \\cdot \\cfrac{e^x}{e^x+1}\n",
    "= (1-s(x))\\cdot s(x)\n",
    "$ "
   ]
  },
  {
   "cell_type": "markdown",
   "metadata": {},
   "source": [
    "## Создание графа вычислений и обучение модели"
   ]
  },
  {
   "cell_type": "code",
   "execution_count": 51,
   "metadata": {
    "scrolled": false
   },
   "outputs": [
    {
     "name": "stdout",
     "output_type": "stream",
     "text": [
      "[000] loss=0.737 weights=[[0.41167268 0.1790637 ]]\n",
      "[010] loss=0.687 weights=[[ 0.16191527 -0.5893183 ]]\n",
      "[020] loss=0.626 weights=[[ 0.05212637 -1.1919289 ]]\n",
      "[030] loss=0.612 weights=[[ 0.02860462 -1.6149259 ]]\n",
      "[040] loss=0.607 weights=[[ 0.04546603 -1.9415412 ]]\n",
      "[050] loss=0.563 weights=[[ 0.07602676 -2.2081456 ]]\n",
      "[060] loss=0.594 weights=[[ 0.08115891 -2.4362547 ]]\n",
      "[070] loss=0.602 weights=[[ 0.10983271 -2.6334414 ]]\n",
      "[080] loss=0.586 weights=[[ 0.14578578 -2.80693   ]]\n",
      "[090] loss=0.616 weights=[[ 0.15914066 -2.9612427 ]]\n",
      "[100] loss=0.577 weights=[[ 0.18113734 -3.1036904 ]]\n",
      "[110] loss=0.620 weights=[[ 0.18944038 -3.2322717 ]]\n",
      "[120] loss=0.568 weights=[[ 0.20430104 -3.3504534 ]]\n",
      "[130] loss=0.595 weights=[[ 0.21625583 -3.4624627 ]]\n",
      "[140] loss=0.567 weights=[[ 0.22589429 -3.5644083 ]]\n",
      "[150] loss=0.560 weights=[[ 0.24331327 -3.6621466 ]]\n",
      "[160] loss=0.570 weights=[[ 0.24989614 -3.7489374 ]]\n",
      "[170] loss=0.556 weights=[[ 0.2550353 -3.8371475]]\n",
      "[180] loss=0.601 weights=[[ 0.26376924 -3.9172294 ]]\n",
      "[190] loss=0.547 weights=[[ 0.27561754 -3.994442  ]]\n",
      "[200] loss=0.577 weights=[[ 0.27352467 -4.070987  ]]\n",
      "[210] loss=0.587 weights=[[ 0.28132778 -4.141677  ]]\n",
      "[220] loss=0.571 weights=[[ 0.28254807 -4.209549  ]]\n",
      "[230] loss=0.539 weights=[[ 0.29075065 -4.276138  ]]\n",
      "[240] loss=0.608 weights=[[ 0.2927157 -4.3381615]]\n",
      "[250] loss=0.571 weights=[[ 0.2960213 -4.398751 ]]\n",
      "[260] loss=0.610 weights=[[ 0.29862577 -4.455116  ]]\n",
      "[270] loss=0.608 weights=[[ 0.30202776 -4.512938  ]]\n",
      "[280] loss=0.565 weights=[[ 0.30259705 -4.568711  ]]\n",
      "[290] loss=0.537 weights=[[ 0.30874962 -4.6213145 ]]\n",
      "[300] loss=0.499 weights=[[ 0.3100272 -4.674058 ]]\n",
      "[310] loss=0.519 weights=[[ 0.31402174 -4.723795  ]]\n",
      "[320] loss=0.575 weights=[[ 0.31393954 -4.7704625 ]]\n",
      "[330] loss=0.583 weights=[[ 0.31638476 -4.8186865 ]]\n",
      "[340] loss=0.623 weights=[[ 0.31803888 -4.8640175 ]]\n",
      "[350] loss=0.532 weights=[[ 0.3218713 -4.9094357]]\n",
      "[360] loss=0.535 weights=[[ 0.3212384 -4.9519877]]\n",
      "[370] loss=0.570 weights=[[ 0.3227824 -4.995388 ]]\n",
      "[380] loss=0.573 weights=[[ 0.3241183 -5.0359454]]\n",
      "[390] loss=0.542 weights=[[ 0.32545286 -5.077646  ]]\n",
      "[400] loss=0.582 weights=[[ 0.3224069 -5.117677 ]]\n",
      "[410] loss=0.538 weights=[[ 0.32508492 -5.156424  ]]\n",
      "[420] loss=0.571 weights=[[ 0.32846045 -5.19345   ]]\n",
      "[430] loss=0.600 weights=[[ 0.3281473 -5.2302933]]\n",
      "[440] loss=0.581 weights=[[ 0.3276802 -5.268274 ]]\n",
      "[450] loss=0.561 weights=[[ 0.32979566 -5.3051405 ]]\n",
      "[460] loss=0.552 weights=[[ 0.32682192 -5.340192  ]]\n",
      "[470] loss=0.551 weights=[[ 0.33092508 -5.3719373 ]]\n",
      "[480] loss=0.571 weights=[[ 0.33017454 -5.407298  ]]\n",
      "[490] loss=0.613 weights=[[ 0.32857975 -5.4415975 ]]\n"
     ]
    }
   ],
   "source": [
    "BATCH_SIZE = NUM_SAMPLES // 10\n",
    "\n",
    "weights = None  # в этой переменной мы сохраним результат обучения модели\n",
    "learning_curve = []  # значения ошибки на каждой итерации обучения\n",
    "\n",
    "with tf.Session(graph = tf.Graph()) as sess:  # инициализируем сессию вычислений\n",
    "    \n",
    "    # создаем placeholdr'ы, через них мы будем\n",
    "    # передавать внешние данные в граф вычислений\n",
    "    plh_X = tf.placeholder(dtype = tf.float32, shape = [None, NUM_FEATURES])\n",
    "    plh_labels = tf.placeholder(dtype = tf.float32, shape = [None, 1])\n",
    "\n",
    "    # создаем переменную для хранения весов модели\n",
    "    # эти веса будут изменяться в процессе обучения\n",
    "    var_W = tf.Variable(tf.random_uniform(shape = [1, NUM_FEATURES],\n",
    "                                          dtype = tf.float32,\n",
    "                                          seed = 54321))\n",
    "    \n",
    "    # создаем переменную для результата предсказания модели\n",
    "    var_Pred = py_func_with_grad(linear_op_forward,         # функция предсказания модели \n",
    "                                 [plh_X, var_W],            # аргументы функции\n",
    "                                 [tf.float32],              # тип выходных значений\n",
    "                                 name = 'linear_op',        # имя операции \n",
    "                                 grad = linear_op_backward, # функция для вычисления градиента\n",
    "                                 graph = sess.graph)        # объект графа вчислений\n",
    "    \n",
    "    # создаем переменную для результата операции sigmoid\n",
    "    var_Sigmoid = py_func_with_grad(sigmoid_op_forward,\n",
    "                                    [var_Pred],\n",
    "                                    [tf.float32],\n",
    "                                    name = 'sigmoid_op',\n",
    "                                    grad = sigmoid_op_backward,\n",
    "                                    graph = sess.graph)\n",
    "    \n",
    "    # кроссэнтропийная функция потерь для бинарной классификации\n",
    "    cost = tf.losses.sigmoid_cross_entropy(plh_labels, var_Sigmoid)\n",
    "    \n",
    "    # инициализируем оптимизатор и указываем скорость обучения\n",
    "    optimizer = tf.train.GradientDescentOptimizer(learning_rate = 0.9).minimize(cost)\n",
    "\n",
    "    # инициализируем placeholder'ы и переменные\n",
    "    sess.run(tf.global_variables_initializer())\n",
    "    \n",
    "    indices = np.arange(len(X))  # массив индексов объектов\n",
    "    \n",
    "    # выполняем итерации по 10-ти эпохам\n",
    "    for epoch in range(50):\n",
    "        \n",
    "        # вначале каждой эпохи перемешиваем индексы\n",
    "        np.random.shuffle(indices)\n",
    "        \n",
    "        # внутри каждой эпохи данные разбиваются на батчи\n",
    "        for batch in range(len(X) // BATCH_SIZE):\n",
    "            \n",
    "            # выбираем индексы очередного батча\n",
    "            batch_indices = indices[batch * BATCH_SIZE:(batch + 1) * BATCH_SIZE]\n",
    "\n",
    "            # выполняем шаг обучения: вычисляем ошибку и обновляем веса\n",
    "            loss, _ = sess.run([cost, optimizer],  # указываем, какие операции необходимо выполнить\n",
    "                               feed_dict = {plh_X: X[batch_indices],  # передаем входные данные для вычисления\n",
    "                                            plh_labels: y[batch_indices]})\n",
    "        \n",
    "            # сохраняем занчения ошибки для построения кривой обучения\n",
    "            learning_curve.append(loss)\n",
    "            \n",
    "            # выводим текущее значение ошибки для каждого 10го шага\n",
    "            steps = len(learning_curve) - 1\n",
    "            if steps % 10 == 0:\n",
    "                print('[%03d] loss=%.3f weights=%s' % (steps, loss, var_W.eval()))\n",
    "    \n",
    "    # сохраняем обученные веса\n",
    "    weights = var_W.eval()"
   ]
  },
  {
   "cell_type": "markdown",
   "metadata": {},
   "source": [
    "## Визуализируем кривую обучения"
   ]
  },
  {
   "cell_type": "code",
   "execution_count": 52,
   "metadata": {},
   "outputs": [
    {
     "data": {
      "image/png": "[encoded data removed]",
      "text/plain": [
       "<Figure size 432x288 with 1 Axes>"
      ]
     },
     "metadata": {},
     "output_type": "display_data"
    }
   ],
   "source": [
    "plt.xlabel('step')\n",
    "plt.ylabel('loss')\n",
    "plt.title('Learning curve')\n",
    "plt.plot(learning_curve);"
   ]
  },
  {
   "cell_type": "markdown",
   "metadata": {},
   "source": [
    "## Визуализируем разделяющую гиперплоскость"
   ]
  },
  {
   "cell_type": "code",
   "execution_count": 53,
   "metadata": {},
   "outputs": [
    {
     "data": {
      "image/png": "[encoded data removed]",
      "text/plain": [
       "<Figure size 432x288 with 1 Axes>"
      ]
     },
     "metadata": {},
     "output_type": "display_data"
    }
   ],
   "source": [
    "y_pred = - X[:, 0] * weights[0, 0] / weights[0, 1]\n",
    "\n",
    "order = np.argsort(X[:, 0])\n",
    "\n",
    "plt.xlabel('x')\n",
    "plt.ylabel('y')\n",
    "plt.plot(X[ones, 0], X[ones, 1], 'ob',\n",
    "         X[zeros, 0], X[zeros, 1], 'or',\n",
    "         X[order, 0], y_pred[order], '-g');"
   ]
  },
  {
   "cell_type": "code",
   "execution_count": 57,
   "metadata": {},
   "outputs": [
    {
     "data": {
      "text/plain": [
       "array([[ 0.33186907, -5.470314  ]], dtype=float32)"
      ]
     },
     "execution_count": 57,
     "metadata": {},
     "output_type": "execute_result"
    }
   ],
   "source": [
    "weights"
   ]
  },
  {
   "cell_type": "code",
   "execution_count": null,
   "metadata": {},
   "outputs": [],
   "source": []
  }
 ],
 "metadata": {
  "kernelspec": {
   "display_name": "Python 3",
   "language": "python",
   "name": "python3"
  },
  "language_info": {
   "codemirror_mode": {
    "name": "ipython",
    "version": 3
   },
   "file_extension": ".py",
   "mimetype": "text/x-python",
   "name": "python",
   "nbconvert_exporter": "python",
   "pygments_lexer": "ipython3",
   "version": "3.6.0"
  }
 },
 "nbformat": 4,
 "nbformat_minor": 2
}
